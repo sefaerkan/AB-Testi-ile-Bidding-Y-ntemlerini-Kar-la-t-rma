{
 "cells": [
  {
   "cell_type": "code",
   "execution_count": 2,
   "id": "5a6d4f52",
   "metadata": {},
   "outputs": [],
   "source": [
    "import itertools\n",
    "import numpy as np\n",
    "import pandas as pd\n",
    "import matplotlib.pyplot as plt\n",
    "import seaborn as sns\n",
    "import statsmodels.stats.api as sms\n",
    "from scipy.stats import ttest_1samp,shapiro,levene,ttest_ind, \\\n",
    "    mannwhitneyu,pearsonr,spearmanr,kendalltau,f_oneway,kruskal\n",
    "from statsmodels.stats.proportion import proportions_ztest"
   ]
  },
  {
   "cell_type": "code",
   "execution_count": null,
   "id": "09ca7f9c",
   "metadata": {},
   "outputs": [],
   "source": [
    "# Görev 1: Veriyi Hazırlama ve Analiz Etme"
   ]
  },
  {
   "cell_type": "code",
   "execution_count": 24,
   "id": "151480d8",
   "metadata": {},
   "outputs": [],
   "source": [
    "# Adım 1: ab_testing_data.xlsx adlı kontrol ve test grubu verilerinden oluşan veri setini okutunuz.\n",
    "# Kontrol ve test grubu verilerini ayrı değişkenlere atayınız.\n",
    "\n",
    "dfc = pd.read_excel(\"ab_testing.xlsx\", sheet_name= \"Control Group\")\n",
    "\n",
    "dft = pd.read_excel(\"ab_testing.xlsx\", sheet_name= \"Test Group\")"
   ]
  },
  {
   "cell_type": "code",
   "execution_count": 26,
   "id": "c607f42d",
   "metadata": {
    "collapsed": true
   },
   "outputs": [
    {
     "data": {
      "text/html": [
       "<div>\n",
       "<style scoped>\n",
       "    .dataframe tbody tr th:only-of-type {\n",
       "        vertical-align: middle;\n",
       "    }\n",
       "\n",
       "    .dataframe tbody tr th {\n",
       "        vertical-align: top;\n",
       "    }\n",
       "\n",
       "    .dataframe thead th {\n",
       "        text-align: right;\n",
       "    }\n",
       "</style>\n",
       "<table border=\"1\" class=\"dataframe\">\n",
       "  <thead>\n",
       "    <tr style=\"text-align: right;\">\n",
       "      <th></th>\n",
       "      <th>count</th>\n",
       "      <th>mean</th>\n",
       "      <th>std</th>\n",
       "      <th>min</th>\n",
       "      <th>25%</th>\n",
       "      <th>50%</th>\n",
       "      <th>75%</th>\n",
       "      <th>max</th>\n",
       "    </tr>\n",
       "  </thead>\n",
       "  <tbody>\n",
       "    <tr>\n",
       "      <th>Impression</th>\n",
       "      <td>40.0</td>\n",
       "      <td>101711.449068</td>\n",
       "      <td>20302.157862</td>\n",
       "      <td>45475.942965</td>\n",
       "      <td>85726.690349</td>\n",
       "      <td>99790.701078</td>\n",
       "      <td>115212.816543</td>\n",
       "      <td>147539.336329</td>\n",
       "    </tr>\n",
       "    <tr>\n",
       "      <th>Click</th>\n",
       "      <td>40.0</td>\n",
       "      <td>5100.657373</td>\n",
       "      <td>1329.985498</td>\n",
       "      <td>2189.753157</td>\n",
       "      <td>4124.304129</td>\n",
       "      <td>5001.220602</td>\n",
       "      <td>5923.803596</td>\n",
       "      <td>7959.125069</td>\n",
       "    </tr>\n",
       "    <tr>\n",
       "      <th>Purchase</th>\n",
       "      <td>40.0</td>\n",
       "      <td>550.894059</td>\n",
       "      <td>134.108201</td>\n",
       "      <td>267.028943</td>\n",
       "      <td>470.095533</td>\n",
       "      <td>531.206307</td>\n",
       "      <td>637.957088</td>\n",
       "      <td>801.795020</td>\n",
       "    </tr>\n",
       "    <tr>\n",
       "      <th>Earning</th>\n",
       "      <td>40.0</td>\n",
       "      <td>1908.568300</td>\n",
       "      <td>302.917783</td>\n",
       "      <td>1253.989525</td>\n",
       "      <td>1685.847205</td>\n",
       "      <td>1975.160522</td>\n",
       "      <td>2119.802784</td>\n",
       "      <td>2497.295218</td>\n",
       "    </tr>\n",
       "  </tbody>\n",
       "</table>\n",
       "</div>"
      ],
      "text/plain": [
       "            count           mean           std           min           25%  \\\n",
       "Impression   40.0  101711.449068  20302.157862  45475.942965  85726.690349   \n",
       "Click        40.0    5100.657373   1329.985498   2189.753157   4124.304129   \n",
       "Purchase     40.0     550.894059    134.108201    267.028943    470.095533   \n",
       "Earning      40.0    1908.568300    302.917783   1253.989525   1685.847205   \n",
       "\n",
       "                     50%            75%            max  \n",
       "Impression  99790.701078  115212.816543  147539.336329  \n",
       "Click        5001.220602    5923.803596    7959.125069  \n",
       "Purchase      531.206307     637.957088     801.795020  \n",
       "Earning      1975.160522    2119.802784    2497.295218  "
      ]
     },
     "execution_count": 26,
     "metadata": {},
     "output_type": "execute_result"
    }
   ],
   "source": [
    "# Adım 2: Kontrol ve test grubu verilerini analiz ediniz.\n",
    "dft.head()\n",
    "dfc.head()\n",
    "\n",
    "dft.describe().T\n",
    "dfc.describe().T"
   ]
  },
  {
   "cell_type": "code",
   "execution_count": 29,
   "id": "c89ac46b",
   "metadata": {
    "collapsed": true
   },
   "outputs": [
    {
     "data": {
      "text/html": [
       "<div>\n",
       "<style scoped>\n",
       "    .dataframe tbody tr th:only-of-type {\n",
       "        vertical-align: middle;\n",
       "    }\n",
       "\n",
       "    .dataframe tbody tr th {\n",
       "        vertical-align: top;\n",
       "    }\n",
       "\n",
       "    .dataframe thead th {\n",
       "        text-align: right;\n",
       "    }\n",
       "</style>\n",
       "<table border=\"1\" class=\"dataframe\">\n",
       "  <thead>\n",
       "    <tr style=\"text-align: right;\">\n",
       "      <th></th>\n",
       "      <th>Impression</th>\n",
       "      <th>Click</th>\n",
       "      <th>Purchase</th>\n",
       "      <th>Earning</th>\n",
       "      <th>Bidding</th>\n",
       "    </tr>\n",
       "  </thead>\n",
       "  <tbody>\n",
       "    <tr>\n",
       "      <th>0</th>\n",
       "      <td>82529.459271</td>\n",
       "      <td>6090.077317</td>\n",
       "      <td>665.211255</td>\n",
       "      <td>2311.277143</td>\n",
       "      <td>Maximum_Bidding</td>\n",
       "    </tr>\n",
       "    <tr>\n",
       "      <th>1</th>\n",
       "      <td>98050.451926</td>\n",
       "      <td>3382.861786</td>\n",
       "      <td>315.084895</td>\n",
       "      <td>1742.806855</td>\n",
       "      <td>Maximum_Bidding</td>\n",
       "    </tr>\n",
       "    <tr>\n",
       "      <th>2</th>\n",
       "      <td>82696.023549</td>\n",
       "      <td>4167.965750</td>\n",
       "      <td>458.083738</td>\n",
       "      <td>1797.827447</td>\n",
       "      <td>Maximum_Bidding</td>\n",
       "    </tr>\n",
       "    <tr>\n",
       "      <th>3</th>\n",
       "      <td>109914.400398</td>\n",
       "      <td>4910.882240</td>\n",
       "      <td>487.090773</td>\n",
       "      <td>1696.229178</td>\n",
       "      <td>Maximum_Bidding</td>\n",
       "    </tr>\n",
       "    <tr>\n",
       "      <th>4</th>\n",
       "      <td>108457.762630</td>\n",
       "      <td>5987.655811</td>\n",
       "      <td>441.034050</td>\n",
       "      <td>1543.720179</td>\n",
       "      <td>Maximum_Bidding</td>\n",
       "    </tr>\n",
       "  </tbody>\n",
       "</table>\n",
       "</div>"
      ],
      "text/plain": [
       "      Impression        Click    Purchase      Earning          Bidding\n",
       "0   82529.459271  6090.077317  665.211255  2311.277143  Maximum_Bidding\n",
       "1   98050.451926  3382.861786  315.084895  1742.806855  Maximum_Bidding\n",
       "2   82696.023549  4167.965750  458.083738  1797.827447  Maximum_Bidding\n",
       "3  109914.400398  4910.882240  487.090773  1696.229178  Maximum_Bidding\n",
       "4  108457.762630  5987.655811  441.034050  1543.720179  Maximum_Bidding"
      ]
     },
     "execution_count": 29,
     "metadata": {},
     "output_type": "execute_result"
    }
   ],
   "source": [
    "#Adım 3: Analiz işleminden sonra concat metodunu kullanarak kontrol ve test grubu verilerini birleştiriniz.\n",
    "\n",
    "dfc[\"Bidding\"] = \"Maximum_Bidding\"\n",
    "\n",
    "dfc.groupby(\"Bidding\").agg({\"Purchase\": \"mean\"})\n",
    "\n",
    "dft[\"Bidding\"] = \"Average_Bidding\"\n",
    "\n",
    "dft.groupby(\"Bidding\").agg({\"Purchase\": \"mean\"})\n",
    "\n",
    "df = pd.concat([dfc, dft])\n",
    "\n",
    "df.head()"
   ]
  },
  {
   "cell_type": "code",
   "execution_count": null,
   "id": "42ca4790",
   "metadata": {},
   "outputs": [],
   "source": [
    "# Görev 2: A/B Testinin Hipotezinin Tanımlanması"
   ]
  },
  {
   "cell_type": "code",
   "execution_count": null,
   "id": "62e0146b",
   "metadata": {},
   "outputs": [],
   "source": [
    "# Adım 1: Hipotezi tanımlayınız.\n",
    "# H0 : M1 = M2 \n",
    "# H1 : M1!= M2 \n",
    "\n",
    "# H0 : M1 = M2  # Average bidding ve Maksimum Bidding purchase ortalamaları Arasında İst. Olarak An. Fark yoktur\n",
    "# H1 : M1!= M2  # ..... vardır"
   ]
  },
  {
   "cell_type": "code",
   "execution_count": 30,
   "id": "1cea6ee0",
   "metadata": {
    "collapsed": true
   },
   "outputs": [
    {
     "data": {
      "text/html": [
       "<div>\n",
       "<style scoped>\n",
       "    .dataframe tbody tr th:only-of-type {\n",
       "        vertical-align: middle;\n",
       "    }\n",
       "\n",
       "    .dataframe tbody tr th {\n",
       "        vertical-align: top;\n",
       "    }\n",
       "\n",
       "    .dataframe thead th {\n",
       "        text-align: right;\n",
       "    }\n",
       "</style>\n",
       "<table border=\"1\" class=\"dataframe\">\n",
       "  <thead>\n",
       "    <tr style=\"text-align: right;\">\n",
       "      <th></th>\n",
       "      <th>Purchase</th>\n",
       "    </tr>\n",
       "    <tr>\n",
       "      <th>Bidding</th>\n",
       "      <th></th>\n",
       "    </tr>\n",
       "  </thead>\n",
       "  <tbody>\n",
       "    <tr>\n",
       "      <th>Average_Bidding</th>\n",
       "      <td>582.106097</td>\n",
       "    </tr>\n",
       "    <tr>\n",
       "      <th>Maximum_Bidding</th>\n",
       "      <td>550.894059</td>\n",
       "    </tr>\n",
       "  </tbody>\n",
       "</table>\n",
       "</div>"
      ],
      "text/plain": [
       "                   Purchase\n",
       "Bidding                    \n",
       "Average_Bidding  582.106097\n",
       "Maximum_Bidding  550.894059"
      ]
     },
     "execution_count": 30,
     "metadata": {},
     "output_type": "execute_result"
    }
   ],
   "source": [
    "# Adım 2: Kontrol ve test grubu için purchase (kazanç) ortalamalarını analiz ediniz.\n",
    "\n",
    "df.groupby(\"Bidding\").agg({\"Purchase\": \"mean\"})"
   ]
  },
  {
   "cell_type": "code",
   "execution_count": null,
   "id": "116d715e",
   "metadata": {},
   "outputs": [],
   "source": [
    "# Görev 3: Hipotez Testinin Gerçekleştirilmesi"
   ]
  },
  {
   "cell_type": "code",
   "execution_count": 31,
   "id": "1dcda01b",
   "metadata": {},
   "outputs": [
    {
     "name": "stdout",
     "output_type": "stream",
     "text": [
      "Test Stat = 0.9773, p-value = 0.5891\n"
     ]
    }
   ],
   "source": [
    "# Adım 1: Hipotez testi yapılmadan önce varsayım kontrollerini yapınız.\n",
    "\n",
    "# Bunlar Normallik Varsayımı ve Varyans Homojenliğidir. Kontrol ve test grubunun normallik varsayımına uyup uymadığını Purchase değişkeni\n",
    "# üzerinden ayrı ayrı test ediniz.\n",
    "\n",
    "# Normallik Varsayımı :\n",
    "# H0: Normal dağılım varsayımı sağlanmaktadır.\n",
    "# H1: Normal dağılım varsayımı sağlanmamaktadır.\n",
    "# p < 0.05 H0 RED , p > 0.05 H0 REDDEDİLEMEZ\n",
    "# Test sonucuna göre normallik varsayımı kontrol ve test grupları için sağlanıyor mu ? Elde edilen p-value değerlerini yorumlayınız.\n",
    "\n",
    "test_stat, pvalue = shapiro(df.loc[df[\"Bidding\"] == \"Maximum_Bidding\", \"Purchase\"])\n",
    "print('Test Stat = %.4f, p-value = %.4f' % (test_stat, pvalue))"
   ]
  },
  {
   "cell_type": "code",
   "execution_count": 32,
   "id": "2cca4dcc",
   "metadata": {},
   "outputs": [
    {
     "name": "stdout",
     "output_type": "stream",
     "text": [
      "Test Stat = 0.9589, p-value = 0.1541\n"
     ]
    }
   ],
   "source": [
    "test_stat, pvalue = shapiro(df.loc[df[\"Bidding\"] == \"Average_Bidding\", \"Purchase\"])\n",
    "print('Test Stat = %.4f, p-value = %.4f' % (test_stat, pvalue))"
   ]
  },
  {
   "cell_type": "code",
   "execution_count": 33,
   "id": "f6ee1954",
   "metadata": {},
   "outputs": [
    {
     "name": "stdout",
     "output_type": "stream",
     "text": [
      "Test Stat = 2.6393, p-value = 0.1083\n"
     ]
    }
   ],
   "source": [
    "# Varyans Homojenliği :\n",
    "# H0: Varyanslar homojendir.\n",
    "# H1: Varyanslar homojen Değildir.\n",
    "# p < 0.05 H0 RED , p > 0.05 H0 REDDEDİLEMEZ\n",
    "# Kontrol ve test grubu için varyans homojenliğinin sağlanıp sağlanmadığını Purchase değişkeni üzerinden test ediniz.\n",
    "# Test sonucuna göre normallik varsayımı sağlanıyor mu? Elde edilen p-value değerlerini yorumlayınız.\n",
    "\n",
    "test_stat, pvalue = levene(df.loc[df[\"Bidding\"] == \"Maximum_Bidding\", \"Purchase\"],\n",
    "                           df.loc[df[\"Bidding\"] == \"Average_Bidding\", \"Purchase\"])\n",
    "print('Test Stat = %.4f, p-value = %.4f' % (test_stat, pvalue))"
   ]
  },
  {
   "cell_type": "code",
   "execution_count": 34,
   "id": "db08a1fa",
   "metadata": {},
   "outputs": [],
   "source": [
    "# Adım 2: Normallik Varsayımı ve Varyans Homojenliği sonuçlarına göre uygun testi seçiniz.\n",
    "\n",
    "# Her iki varsayım da sağlanıyor. Yani bağımsız iki örneklem t testi yapacağız. (parametrik test)"
   ]
  },
  {
   "cell_type": "code",
   "execution_count": 35,
   "id": "7cbb276e",
   "metadata": {},
   "outputs": [
    {
     "name": "stdout",
     "output_type": "stream",
     "text": [
      "Test Stat = -0.9416, p-value = 0.3493\n"
     ]
    }
   ],
   "source": [
    "test_stat, pvalue = ttest_ind(df.loc[df[\"Bidding\"] == \"Maximum_Bidding\", \"Purchase\"],\n",
    "                           df.loc[df[\"Bidding\"] == \"Average_Bidding\", \"Purchase\"],\n",
    "                            equal_var=True)\n",
    "print('Test Stat = %.4f, p-value = %.4f' % (test_stat, pvalue))\n",
    "\n",
    "## p-value değeri 0.3493 geldi. Yani H0 hipotezini reddedemiyoruz.\n",
    "# Yani her iki yöntem arasında anlamlı bir fark var diyemeyiz. H0: M1 = M2 reddedilemez"
   ]
  },
  {
   "cell_type": "code",
   "execution_count": null,
   "id": "6426aab2",
   "metadata": {},
   "outputs": [],
   "source": [
    "# Görev 4: Sonuçların Analizi\n",
    "\n",
    "# Varsayımlar sağlandığı için bağımsız iki örneklem t testi yaptık.\n",
    "\n",
    "# Elde ettiğimiz sonuca göre average bidding ile maximum bidding arasında\n",
    "# purchase ortalamaları açısından anlamlı bir fark olmadığını gördük.\n",
    "\n",
    "# Müşteriden veri sayısını arttırmasını isteyebiliriz.\n",
    "# 3 ay daha veri toplamasını ve tekrar hipotez testi yapılmasını isteyebiliriz.\n",
    "\n",
    "# Mevcut sonuçlara göre yeni teklif türü olan average biddingi satın almamasını tavsiye ederiz."
   ]
  }
 ],
 "metadata": {
  "kernelspec": {
   "display_name": "Python 3 (ipykernel)",
   "language": "python",
   "name": "python3"
  },
  "language_info": {
   "codemirror_mode": {
    "name": "ipython",
    "version": 3
   },
   "file_extension": ".py",
   "mimetype": "text/x-python",
   "name": "python",
   "nbconvert_exporter": "python",
   "pygments_lexer": "ipython3",
   "version": "3.10.9"
  }
 },
 "nbformat": 4,
 "nbformat_minor": 5
}
